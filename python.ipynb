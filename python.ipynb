{
  "nbformat": 4,
  "nbformat_minor": 0,
  "metadata": {
    "colab": {
      "name": "python.ipynb",
      "provenance": [],
      "collapsed_sections": [],
      "authorship_tag": "ABX9TyPmrkcVOncnkPOCBaMXhZMm",
      "include_colab_link": true
    },
    "kernelspec": {
      "name": "python3",
      "display_name": "Python 3"
    },
    "language_info": {
      "name": "python"
    }
  },
  "cells": [
    {
      "cell_type": "markdown",
      "metadata": {
        "id": "view-in-github",
        "colab_type": "text"
      },
      "source": [
        "<a href=\"https://colab.research.google.com/github/jannani21/pythonLab/blob/main/python.ipynb\" target=\"_parent\"><img src=\"https://colab.research.google.com/assets/colab-badge.svg\" alt=\"Open In Colab\"/></a>"
      ]
    },
    {
      "cell_type": "code",
      "execution_count": null,
      "metadata": {
        "colab": {
          "base_uri": "https://localhost:8080/"
        },
        "id": "uEleHbsi0DAS",
        "outputId": "1c8cea8a-be2d-42aa-bd49-c525396bf90c"
      },
      "outputs": [
        {
          "output_type": "stream",
          "name": "stdout",
          "text": [
            "Choice 1: Add, 2: Sub, 3: Div, 4: Mul, 5: Quit\n",
            "Enter the choice of operartion: 1\n",
            "You have choosen addition Option: \n",
            "Enter the value for A: 5\n",
            "Enter the value for B: 4\n",
            "The Result 5 + 4 = 9\n"
          ]
        }
      ],
      "source": [
        "#Arithmetic operations\n",
        "print(\"Choice 1: Add, 2: Sub, 3: Div, 4: Mul, 5: Quit\")\n",
        "n1=input(\"Enter the choice of operartion: \")\n",
        "n=int(n1)\n",
        "if(n==1):\n",
        "  print(\"You have choosen addition Option: \")\n",
        "  a1=input(\"Enter the value for A: \")\n",
        "  b1=input(\"Enter the value for B: \")\n",
        "  a=int(a1)\n",
        "  b=int(b1)\n",
        "  c=a+b\n",
        "  print(\"The Result\",a,\"+\",b,\"=\",c)\n",
        "elif(n==2):\n",
        "  print(\"You have choosen subtraction option:\")\n",
        "  a1=input(\"Enter the value for A: \")\n",
        "  b1=input(\"Enter the value for B: \")\n",
        "  a=int(a1)\n",
        "  b=int(b1)\n",
        "  c=a-b\n",
        "  print(\"The Result\",a,\"-\",b,\"=\",c)\n",
        "elif(n==3):\n",
        "  print(\"You have chosen division option: \")\n",
        "  a1=input(\"Enter the value for A: \")\n",
        "  b1=input(\"Enter the value for B: \")\n",
        "  a=int(a1)\n",
        "  b=int(b1)\n",
        "  c=a/b\n",
        "  print(\"The result\",a,\"/\",b,\"=\",c)\n",
        "elif(n==4):\n",
        "  print(\"You have chosen multiplication option: \")\n",
        "  a1=input(\"Enter the value for A: \")\n",
        "  b1=input(\"Enter the value for B: \")\n",
        "  a=int(a1)\n",
        "  b=int(b1)\n",
        "  c=a/b\n",
        "  print(\"The result\",a,\"*\",b,\"=\",c)\n",
        "elif(n==5):\n",
        "  print(\"You have given a wrong: \",n)\n",
        "  exit()\n"
      ]
    },
    {
      "cell_type": "code",
      "source": [
        "#boolean expression\n",
        "a=True\n",
        "b=False\n",
        "print('a= ',a,'b= ',b)\n",
        "a=False;\n",
        "print('a= ',a,'b= ',b)"
      ],
      "metadata": {
        "id": "NnxPA-ZMSpck"
      },
      "execution_count": null,
      "outputs": []
    },
    {
      "cell_type": "code",
      "source": [
        "#nested loop\n",
        "print(\"     1  2  3  4  5  6  7  8  9  10\")\n",
        "print(\"    <---------------------------->\")\n",
        "for row in range(1,11):\n",
        "  if row<10:\n",
        "    print(\" \",end=\" \")\n",
        "    for column in range(1,11):\n",
        "      product=row*column;\n",
        "      if product<100:\n",
        "        print(end=\" \")\n",
        "      if product<10:\n",
        "        print(end=\" \")\n",
        "      print(product,end=\" \")\n",
        "    print()"
      ],
      "metadata": {
        "id": "oY7USHIl0wtL",
        "colab": {
          "base_uri": "https://localhost:8080/"
        },
        "outputId": "eab2d847-5b1c-4450-c845-eea154afaf0c"
      },
      "execution_count": null,
      "outputs": [
        {
          "output_type": "stream",
          "name": "stdout",
          "text": [
            "     1  2  3  4  5  6  7  8  9  10\n",
            "    <---------------------------->\n",
            "    1   2   3   4   5   6   7   8   9  10 \n",
            "    2   4   6   8  10  12  14  16  18  20 \n",
            "    3   6   9  12  15  18  21  24  27  30 \n",
            "    4   8  12  16  20  24  28  32  36  40 \n",
            "    5  10  15  20  25  30  35  40  45  50 \n",
            "    6  12  18  24  30  36  42  48  54  60 \n",
            "    7  14  21  28  35  42  49  56  63  70 \n",
            "    8  16  24  32  40  48  56  64  72  80 \n",
            "    9  18  27  36  45  54  63  72  81  90 \n"
          ]
        }
      ]
    },
    {
      "cell_type": "code",
      "source": [
        "#while \n",
        "entry=0\n",
        "sum=0\n",
        "print(\"Enter numbers to sum, negative number ends list: \")\n",
        "while entry >=0:\n",
        "  entry =eval(input())\n",
        "  if entry >=0:\n",
        "    sum+=entry\n",
        "print(\"sum=\",sum)"
      ],
      "metadata": {
        "colab": {
          "base_uri": "https://localhost:8080/"
        },
        "id": "xInpF08nWa8e",
        "outputId": "c615cddf-6832-4ae6-f4f1-fe814a93baa5"
      },
      "execution_count": null,
      "outputs": [
        {
          "output_type": "stream",
          "name": "stdout",
          "text": [
            "Enter numbers to sum, negative number ends list: \n",
            "55\n",
            "66\n",
            "77\n",
            "-9\n",
            "sum= 198\n"
          ]
        }
      ]
    },
    {
      "cell_type": "code",
      "source": [
        "#elif statement\n",
        "value=eval(input(\"Please enter an integer in the range 0....5: \"))\n",
        "if value<0:\n",
        "  print(\"To0o small\")\n",
        "else:\n",
        "  if value ==0:\n",
        "    print(\"zero\")\n",
        "  else:\n",
        "    if value==1:\n",
        "      print(\"one\")\n",
        "    else:\n",
        "      if value ==2:\n",
        "        print(\"two\")\n",
        "      else:\n",
        "        if value==3:\n",
        "          print(\"three\")\n",
        "        else:\n",
        "          if value==4:\n",
        "            print(\"four\")\n",
        "          else:\n",
        "            if value==5:\n",
        "              print(\"five\")\n",
        "            else:\n",
        "              print(\"too large\")\n",
        "  print(\"done\")"
      ],
      "metadata": {
        "colab": {
          "base_uri": "https://localhost:8080/"
        },
        "id": "LQ3lXRezYV47",
        "outputId": "e00c0b01-a5de-48e5-ad85-d074b25c25ea"
      },
      "execution_count": null,
      "outputs": [
        {
          "output_type": "stream",
          "name": "stdout",
          "text": [
            "Please enter an integer in the range 0....5: 5\n",
            "five\n",
            "done\n"
          ]
        }
      ]
    },
    {
      "cell_type": "code",
      "source": [
        ""
      ],
      "metadata": {
        "id": "45I2mXwjYBWz"
      },
      "execution_count": null,
      "outputs": []
    }
  ]
}