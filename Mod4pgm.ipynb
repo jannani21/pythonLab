{
  "nbformat": 4,
  "nbformat_minor": 0,
  "metadata": {
    "colab": {
      "name": "Mod4pgm.ipynb",
      "provenance": [],
      "authorship_tag": "ABX9TyPgwINCAaJuUJOqBoSz0dq3",
      "include_colab_link": true
    },
    "kernelspec": {
      "name": "python3",
      "display_name": "Python 3"
    },
    "language_info": {
      "name": "python"
    }
  },
  "cells": [
    {
      "cell_type": "markdown",
      "metadata": {
        "id": "view-in-github",
        "colab_type": "text"
      },
      "source": [
        "<a href=\"https://colab.research.google.com/github/jannani21/pythonLab/blob/main/Mod4pgm.ipynb\" target=\"_parent\"><img src=\"https://colab.research.google.com/assets/colab-badge.svg\" alt=\"Open In Colab\"/></a>"
      ]
    },
    {
      "cell_type": "code",
      "execution_count": null,
      "metadata": {
        "colab": {
          "base_uri": "https://localhost:8080/"
        },
        "id": "CtXjTB5eQ3YG",
        "outputId": "7b99e81f-e521-42b9-b0b6-48ba6b50f543"
      },
      "outputs": [
        {
          "output_type": "stream",
          "name": "stdout",
          "text": [
            "Values inside the function:  [10, 20, 30, [1, 2, 3, 4]]\n",
            "values outside the function:  [10, 20, 30, [1, 2, 3, 4]]\n"
          ]
        }
      ],
      "source": [
        "#passed by value\n",
        "#function definition is here\n",
        "def changeme(mylist):\n",
        "  \"This changes a passed list into this fucntion\"\n",
        "  mylist.append([1,2,3,4]);\n",
        "  print(\"Values inside the function: \",mylist)\n",
        "  return\n",
        "#now you can call changeme function\n",
        "mylist=[10,20,30];\n",
        "changeme(mylist);\n",
        "print(\"values outside the function: \",mylist)"
      ]
    },
    {
      "cell_type": "code",
      "source": [
        "#passed by reference\n",
        "#function definition is here\n",
        "def changeme(mylist):\n",
        "  \"This changes a passed list into this function\"\n",
        "  mylist=[1,2,3,4]; #This would assign new reference in mylist\n",
        "  print(\"Values inside the function: \",mylist)\n",
        "  return\n",
        "#now you can call changeme function\n",
        "mylist=[10,20,30];\n",
        "changeme(mylist);\n",
        "print(\"Values outside the function: \",mylist)"
      ],
      "metadata": {
        "colab": {
          "base_uri": "https://localhost:8080/"
        },
        "id": "Fk2pmWkPSWdZ",
        "outputId": "33a22b7e-653f-490e-ad0f-8687848a2b33"
      },
      "execution_count": null,
      "outputs": [
        {
          "output_type": "stream",
          "name": "stdout",
          "text": [
            "Values inside the function:  [1, 2, 3, 4]\n",
            "Values outside the function:  [10, 20, 30]\n"
          ]
        }
      ]
    },
    {
      "cell_type": "code",
      "source": [
        "#keyword arguments\n",
        "#function definition is here\n",
        "def printme(str):\n",
        "  \"This prints a passed string into this function\"\n",
        "  print(str)\n",
        "  return;\n",
        "#Now you can call printme function\n",
        "printme(str=\"My string\")"
      ],
      "metadata": {
        "colab": {
          "base_uri": "https://localhost:8080/"
        },
        "id": "jB9jXPPdTDpR",
        "outputId": "70592583-7309-4313-a5f6-1c6870f5ba79"
      },
      "execution_count": null,
      "outputs": [
        {
          "output_type": "stream",
          "name": "stdout",
          "text": [
            "My string\n"
          ]
        }
      ]
    },
    {
      "cell_type": "code",
      "source": [
        "def printinfo(name,age):\n",
        "  \"This prints a passed info into this function\"\n",
        "  print(\"Name: \",name)\n",
        "  print(\"Age: \",age)\n",
        "  return;\n",
        "printinfo(age=50,name=\"miki\")"
      ],
      "metadata": {
        "colab": {
          "base_uri": "https://localhost:8080/"
        },
        "id": "BChYHsJbTbPy",
        "outputId": "4fe913d0-2933-4747-95ff-34b218b5431e"
      },
      "execution_count": null,
      "outputs": [
        {
          "output_type": "stream",
          "name": "stdout",
          "text": [
            "Name:  miki\n",
            "Age:  50\n"
          ]
        }
      ]
    },
    {
      "cell_type": "code",
      "source": [
        "#default arguments\n",
        "def printinfo(name, age=35):\n",
        "  \"This prints a passed info into this function\"\n",
        "  print(\"Name: \",name)\n",
        "  print(\"Age\",age)\n",
        "  return;\n",
        "printinfo(age=50,name=\"miki\")\n",
        "printinfo(name=\"miki\")"
      ],
      "metadata": {
        "colab": {
          "base_uri": "https://localhost:8080/"
        },
        "id": "GdcHDcHCTt_N",
        "outputId": "a5890e65-f471-4d5d-bb09-f379a421a8ca"
      },
      "execution_count": null,
      "outputs": [
        {
          "output_type": "stream",
          "name": "stdout",
          "text": [
            "Name:  miki\n",
            "Age 50\n",
            "Name:  miki\n",
            "Age 35\n"
          ]
        }
      ]
    },
    {
      "cell_type": "code",
      "source": [
        "def printinfo(arg1, *vartuple ):\n",
        "  \"This prints a variable passed arguments\"\n",
        "  print(\"Output is: \")\n",
        "  print(arg1)\n",
        "  for var in vartuple:\n",
        "    print(var)\n",
        "  return;\n",
        "printinfo(10)\n",
        "printinfo(70,60,50)"
      ],
      "metadata": {
        "colab": {
          "base_uri": "https://localhost:8080/"
        },
        "id": "sqdm9fkYU1Ds",
        "outputId": "f77ffadc-2607-4882-c069-bb595439a99c"
      },
      "execution_count": null,
      "outputs": [
        {
          "output_type": "stream",
          "name": "stdout",
          "text": [
            "Output is: \n",
            "10\n",
            "Output is: \n",
            "70\n",
            "60\n",
            "50\n"
          ]
        }
      ]
    },
    {
      "cell_type": "code",
      "source": [
        "#scope of variables\n",
        "total=0;#The global variable\n",
        "def sum(arg1,arg2):\n",
        "  total=arg1+arg2;\n",
        "  print(\"Inside the function local total: \",total)\n",
        "  return total;\n",
        "sum(10,20);\n",
        "print(\"Outside the function global total: \",total)"
      ],
      "metadata": {
        "colab": {
          "base_uri": "https://localhost:8080/"
        },
        "id": "LHnj3R1FVqVS",
        "outputId": "2968071c-f3f6-48f8-98fb-f386cf8790cb"
      },
      "execution_count": null,
      "outputs": [
        {
          "output_type": "stream",
          "name": "stdout",
          "text": [
            "Inside the function local total:  30\n",
            "Outside the function global total:  0\n"
          ]
        }
      ]
    },
    {
      "cell_type": "code",
      "source": [
        "#prime number program using math functions\n",
        "from math import sqrt\n",
        "max_value=eval(input(\"Display primes up to what value?\"))\n",
        "value=2 #smallest prime number\n",
        "while value<=max_value:\n",
        "  is_prime=True\n",
        "  trial_factor=2\n",
        "  root=sqrt(value)\n",
        "  while trial_factor<=root:\n",
        "    if value%trial_factor==0:\n",
        "      is_prime=False;\n",
        "      break\n",
        "    trial_factor+=1\n",
        "  if is_prime:\n",
        "    print(value, end=' ')\n",
        "  value+=1\n",
        "print()\n"
      ],
      "metadata": {
        "colab": {
          "base_uri": "https://localhost:8080/"
        },
        "id": "COiXITSgWLnn",
        "outputId": "4b3c8bb7-1938-4f9a-abdb-0212d4beb441"
      },
      "execution_count": null,
      "outputs": [
        {
          "output_type": "stream",
          "name": "stdout",
          "text": [
            "Display primes up to what value?50\n",
            "2 3 5 7 11 13 17 19 23 29 31 37 41 43 47 \n"
          ]
        }
      ]
    },
    {
      "cell_type": "code",
      "source": [
        "#clock example 1\n",
        "from time import clock\n",
        "print(\"Enter your name: \",end=\"\")\n",
        "start_time=clock()\n",
        "name=input()\n",
        "elapsed=clock()-start_time\n",
        "print(name, \"it took you\",elapsed,\"seconds to respond\")"
      ],
      "metadata": {
        "colab": {
          "base_uri": "https://localhost:8080/"
        },
        "id": "qRjn1WI9XF2o",
        "outputId": "3beecac5-587a-49f1-fb3e-5e34aace2d73"
      },
      "execution_count": null,
      "outputs": [
        {
          "output_type": "stream",
          "name": "stderr",
          "text": [
            "/usr/local/lib/python3.7/dist-packages/ipykernel_launcher.py:4: DeprecationWarning: time.clock has been deprecated in Python 3.3 and will be removed from Python 3.8: use time.perf_counter or time.process_time instead\n",
            "  after removing the cwd from sys.path.\n"
          ]
        },
        {
          "output_type": "stream",
          "name": "stdout",
          "text": [
            "Enter your name: Rick\n",
            "Rick it took you 0.041097000000000605 seconds to respond\n"
          ]
        },
        {
          "output_type": "stream",
          "name": "stderr",
          "text": [
            "/usr/local/lib/python3.7/dist-packages/ipykernel_launcher.py:6: DeprecationWarning: time.clock has been deprecated in Python 3.3 and will be removed from Python 3.8: use time.perf_counter or time.process_time instead\n",
            "  \n"
          ]
        }
      ]
    },
    {
      "cell_type": "code",
      "source": [
        "#clock example 2\n",
        "from time import clock\n",
        "max_value=10000\n",
        "count=0\n",
        "start_time=clock()\n",
        "for value in range(2,max_value+1):\n",
        "  is_prime=True\n",
        "  for trial_factor in range(2,value):\n",
        "    if value%trial_factor==0:\n",
        "      is_prime=False\n",
        "      break\n",
        "  if is_prime:\n",
        "    count+=1\n",
        "print()\n",
        "elapsed=clock()-start_time\n",
        "print(\"Count:\",count, \"Elapsed time:\",elapsed, \"sec\")"
      ],
      "metadata": {
        "colab": {
          "base_uri": "https://localhost:8080/"
        },
        "id": "w4YygwbiYYwJ",
        "outputId": "27d124ca-ec38-49dd-95d5-47c467c6370b"
      },
      "execution_count": null,
      "outputs": [
        {
          "output_type": "stream",
          "name": "stderr",
          "text": [
            "/usr/local/lib/python3.7/dist-packages/ipykernel_launcher.py:5: DeprecationWarning: time.clock has been deprecated in Python 3.3 and will be removed from Python 3.8: use time.perf_counter or time.process_time instead\n",
            "  \"\"\"\n"
          ]
        },
        {
          "output_type": "stream",
          "name": "stdout",
          "text": [
            "\n",
            "Count: 1229 Elapsed time: 0.7312069999999977 sec\n"
          ]
        },
        {
          "output_type": "stream",
          "name": "stderr",
          "text": [
            "/usr/local/lib/python3.7/dist-packages/ipykernel_launcher.py:15: DeprecationWarning: time.clock has been deprecated in Python 3.3 and will be removed from Python 3.8: use time.perf_counter or time.process_time instead\n",
            "  from ipykernel import kernelapp as app\n"
          ]
        }
      ]
    },
    {
      "cell_type": "code",
      "source": [
        "#simplerandom\n",
        "from random import randrange, seed\n",
        "seed(23)\n",
        "for i in range(0,100):\n",
        "  print(randrange(1,1000),end=' ')\n",
        "print()"
      ],
      "metadata": {
        "colab": {
          "base_uri": "https://localhost:8080/"
        },
        "id": "CxNv3ozkZbCs",
        "outputId": "9b90fde8-838d-4e20-dd06-de5883dc8e0f"
      },
      "execution_count": null,
      "outputs": [
        {
          "output_type": "stream",
          "name": "stdout",
          "text": [
            "948 799 972 297 914 850 86 18 607 315 434 389 543 367 134 744 197 274 456 15 227 636 466 924 26 109 88 728 511 432 21 525 643 752 442 368 790 59 211 802 37 604 378 674 177 636 222 995 753 372 580 779 881 378 992 586 289 677 999 322 587 88 834 486 182 736 495 605 811 459 692 658 168 187 819 183 547 332 690 836 533 201 597 118 85 101 437 40 582 283 963 587 288 841 605 339 112 379 922 296 \n"
          ]
        }
      ]
    },
    {
      "cell_type": "code",
      "source": [
        "#rolling of a die program using random module functions\n",
        "from random import randrange\n",
        "for i in range(0,3):\n",
        "  value=randrange(1,6)\n",
        "  print(\"+----------+\")\n",
        "  if value==1:\n",
        "    print(\"|         |\")\n",
        "    print(\"|    *    |\")\n",
        "    print(\"|         |\")\n",
        "  elif value==2:\n",
        "    print(\"| *       |\")\n",
        "    print(\"|         |\")\n",
        "    print(\"|       * |\")\n",
        "  elif value==3:\n",
        "    print(\"|       * |\")\n",
        "    print(\"|    *    |\")\n",
        "    print(\"| *       |\")\n",
        "  elif value==4:\n",
        "    print(\"| *     * |\")\n",
        "    print(\"|         |\")\n",
        "    print(\"| *     * |\")\n",
        "  elif value==5:\n",
        "    print(\"| *     * |\")\n",
        "    print(\"|    *    |\")\n",
        "    print(\"| *     * |\")\n",
        "  elif value==6:\n",
        "    print(\"|  * * *  |\")\n",
        "    print(\"|  * * *  |\")\n",
        "    print(\"|  * * *  |\")\n"
      ],
      "metadata": {
        "colab": {
          "base_uri": "https://localhost:8080/"
        },
        "id": "kiQWb4asZvSD",
        "outputId": "d7164d38-dc8b-4295-c69a-393a1a6c537f"
      },
      "execution_count": null,
      "outputs": [
        {
          "output_type": "stream",
          "name": "stdout",
          "text": [
            "+----------+\n",
            "| *       |\n",
            "|         |\n",
            "|       * |\n",
            "+----------+\n",
            "|         |\n",
            "|    *    |\n",
            "|         |\n",
            "+----------+\n",
            "| *     * |\n",
            "|    *    |\n",
            "| *     * |\n"
          ]
        }
      ]
    },
    {
      "cell_type": "code",
      "source": [
        "#gcdwithmain\n",
        "def gcd(m,n):\n",
        "  min=m if m<n else n\n",
        "  largestFactor=1\n",
        "  for i in range(1,min+1):\n",
        "    if m%i==0 and n%i==0:\n",
        "      largestFactor=i\n",
        "  return largestFactor\n",
        "def get_int():\n",
        "  return int(input(\"Please enter an integer: \"))\n",
        "def main():\n",
        "  n1=get_int()\n",
        "  n2=get_int()\n",
        "  print(\"gcd(\",n1,\",\", n2,\")=\",gcd(n1,n2),sep=\" \")\n",
        "main()"
      ],
      "metadata": {
        "id": "haNBAWd8dAVK"
      },
      "execution_count": null,
      "outputs": []
    },
    {
      "cell_type": "code",
      "source": [
        "#parameter passing example\n",
        "def increment(x):\n",
        "  print(\"Beginning execution of increment, x= \",x)\n",
        "  x+=1\n",
        "  print(\"Ending execition of increment, x= \",x)\n",
        "def main():\n",
        "  x=5\n",
        "  print(\"Before increment, x=\",x)\n",
        "  increment(x)\n",
        "  print(\"After increment, x=\",x)\n",
        "main()"
      ],
      "metadata": {
        "id": "C3QCenV5efrL"
      },
      "execution_count": null,
      "outputs": []
    },
    {
      "cell_type": "code",
      "source": [
        "#recursion\n",
        "def factorial(n):\n",
        "  if n==0:\n",
        "    return 1\n",
        "  else:\n",
        "    return n*factorial(n-1)\n",
        "def main():\n",
        "  print(\"0!= \", factorial(0))\n",
        "  print(\"1!= \", factorial(1))\n",
        "  print(\"6!= \", factorial(6))\n",
        "  print(\"10!= \", factorial(10))\n",
        "main()"
      ],
      "metadata": {
        "id": "NIiqpvoDg-Ie"
      },
      "execution_count": null,
      "outputs": []
    },
    {
      "cell_type": "code",
      "source": [
        "#arithmeticeval\n",
        "def add(x,y):\n",
        "  return x*y\n",
        "def evaluate(f,x,y):\n",
        "  return f(x,y)\n",
        "def main():\n",
        "  print(add(2,3))\n",
        "  print(multiply(2,3))\n",
        "  print(evaluate(add,2,3))\n",
        "  print(evaluate(multiply,2,3))\n",
        "main()"
      ],
      "metadata": {
        "id": "-lFlSoolhuJz"
      },
      "execution_count": null,
      "outputs": []
    }
  ]
}