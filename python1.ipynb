{
  "nbformat": 4,
  "nbformat_minor": 0,
  "metadata": {
    "colab": {
      "name": "python1.ipynb",
      "provenance": [],
      "collapsed_sections": [],
      "authorship_tag": "ABX9TyOwJWFIE3C1l9fq0i2DKhHJ",
      "include_colab_link": true
    },
    "kernelspec": {
      "name": "python3",
      "display_name": "Python 3"
    },
    "language_info": {
      "name": "python"
    }
  },
  "cells": [
    {
      "cell_type": "markdown",
      "metadata": {
        "id": "view-in-github",
        "colab_type": "text"
      },
      "source": [
        "<a href=\"https://colab.research.google.com/github/jannani21/pythonLab/blob/main/python1.ipynb\" target=\"_parent\"><img src=\"https://colab.research.google.com/assets/colab-badge.svg\" alt=\"Open In Colab\"/></a>"
      ]
    },
    {
      "cell_type": "code",
      "execution_count": null,
      "metadata": {
        "colab": {
          "base_uri": "https://localhost:8080/"
        },
        "id": "NyJYpCqIpYGE",
        "outputId": "3e27d240-0518-4921-cc84-7df5d857f6c3"
      },
      "outputs": [
        {
          "output_type": "stream",
          "name": "stdout",
          "text": [
            "The sum of 1.5 and 6.3 is 7.8\n"
          ]
        }
      ],
      "source": [
        "#1 Adding two numbers\n",
        "num1=1.5\n",
        "num2=6.3\n",
        "sum=(num1)+(num2)\n",
        "print('The sum of {0} and {1} is {2}'.format(num1,num2,sum))"
      ]
    },
    {
      "cell_type": "code",
      "source": [
        "#2 Adding two numbers with user input\n",
        "num1=input('Enter first number:')\n",
        "num2=input('Enter second number:')\n",
        "sum=float(num1)+float(num2)\n",
        "print('The sum of {0} and {1} is {2}'.format(num1,num2,sum))"
      ],
      "metadata": {
        "colab": {
          "base_uri": "https://localhost:8080/"
        },
        "id": "FUwzoa_YqM9O",
        "outputId": "b13195e0-d48e-4f96-93e7-8f234c390850"
      },
      "execution_count": null,
      "outputs": [
        {
          "output_type": "stream",
          "name": "stdout",
          "text": [
            "Enter first number:5\n",
            "Enter second number:6\n",
            "The sum of 5 and 6 is 11.0\n"
          ]
        }
      ]
    },
    {
      "cell_type": "code",
      "source": [
        "#3 To calculate the square root\n",
        "num=8\n",
        "num_sqrt = num**0.5\n",
        "print('The squareroot of %0.3f is %0.3f'%(num,num_sqrt))"
      ],
      "metadata": {
        "colab": {
          "base_uri": "https://localhost:8080/"
        },
        "id": "wgmy6ZxPqxuT",
        "outputId": "ee526861-e836-49eb-c174-db21d50eec72"
      },
      "execution_count": null,
      "outputs": [
        {
          "output_type": "stream",
          "name": "stdout",
          "text": [
            "The squareroot of 8.000 is 2.828\n"
          ]
        }
      ]
    },
    {
      "cell_type": "code",
      "source": [
        "#4 To calculate the square root of complex numbers\n",
        "import cmath\n",
        "num=1+2j\n",
        "num_sqrt=cmath.sqrt(num)\n",
        "print('The square root of {0} is {1:0.3f}+{2:0.3f}j'.format(num,num_sqrt.real,num_sqrt.imag))"
      ],
      "metadata": {
        "colab": {
          "base_uri": "https://localhost:8080/"
        },
        "id": "VAsxlwPDrIOf",
        "outputId": "386be503-97f0-4e13-cbc6-748edff5c655"
      },
      "execution_count": null,
      "outputs": [
        {
          "output_type": "stream",
          "name": "stdout",
          "text": [
            "The square root of (1+2j) is 1.272+0.786j\n"
          ]
        }
      ]
    },
    {
      "cell_type": "code",
      "source": [
        "#5 To find area of triangle\n",
        "a=5\n",
        "b=6\n",
        "c=7\n",
        "s=(a+b+c)/2\n",
        "area=(s*(s-a)*(s-b)*(s-c))**0.5\n",
        "print('The area of the triangle is %0.2f'%area)"
      ],
      "metadata": {
        "colab": {
          "base_uri": "https://localhost:8080/"
        },
        "id": "Ew7LPnVJrqcD",
        "outputId": "6dec73a7-93dd-41c5-8e1c-3d08f249ae80"
      },
      "execution_count": null,
      "outputs": [
        {
          "output_type": "stream",
          "name": "stdout",
          "text": [
            "The area of the triangle is 14.70\n"
          ]
        }
      ]
    },
    {
      "cell_type": "code",
      "source": [
        "#6 To swap two variables\n",
        "x=5\n",
        "y=0\n",
        "temp=x\n",
        "x=y\n",
        "y=temp\n",
        "print('The value of x after swapping;{}'.format(x))\n",
        "print('The value of y after swapping:{}'.format(y))"
      ],
      "metadata": {
        "colab": {
          "base_uri": "https://localhost:8080/"
        },
        "id": "bczprDBfsEGX",
        "outputId": "0734248b-a6dd-45df-bd51-da8bad425058"
      },
      "execution_count": null,
      "outputs": [
        {
          "output_type": "stream",
          "name": "stdout",
          "text": [
            "The value of x after swapping;0\n",
            "The value of y after swapping:5\n"
          ]
        }
      ]
    },
    {
      "cell_type": "code",
      "source": [
        "#7 changing the value of a variable\n",
        "website=\"apple.com\"\n",
        "print(website)\n",
        "website=\"programiz.com\"\n",
        "print(website)\n"
      ],
      "metadata": {
        "colab": {
          "base_uri": "https://localhost:8080/"
        },
        "id": "PRwhoGpFsX0o",
        "outputId": "e111ed36-71a7-4b37-86de-3a74a618bbeb"
      },
      "execution_count": null,
      "outputs": [
        {
          "output_type": "stream",
          "name": "stdout",
          "text": [
            "apple.com\n",
            "programiz.com\n"
          ]
        }
      ]
    },
    {
      "cell_type": "code",
      "source": [
        "#8 assigning multiple values to multiple variables\n",
        "a,b,c=5,3.2,\"Hello\"\n",
        "print(a)\n",
        "print(b)\n",
        "print(c)"
      ],
      "metadata": {
        "colab": {
          "base_uri": "https://localhost:8080/"
        },
        "id": "Id20Lu2nsySI",
        "outputId": "bf77db48-a1cd-4095-da4d-e70b959b82eb"
      },
      "execution_count": null,
      "outputs": [
        {
          "output_type": "stream",
          "name": "stdout",
          "text": [
            "5\n",
            "3.2\n",
            "Hello\n"
          ]
        }
      ]
    },
    {
      "cell_type": "code",
      "source": [
        "#9 Numeric literals\n",
        "a = 0b1010#Binary Literals\n",
        "b = 100#Decimal Literal \n",
        "c = 0o310#Octal Literal\n",
        "d = 0x12c#Hexadecimal Literal\n",
        "#Float Literal\n",
        "float_1 = 10.5\n",
        "float_2 = 1.5e2\n",
        "#Complex Literal \n",
        "x = 3.14j\n",
        "print(a, b, c, d)\n",
        "print(float_1, float_2)\n",
        "print(x, x.imag, x.real)"
      ],
      "metadata": {
        "colab": {
          "base_uri": "https://localhost:8080/"
        },
        "id": "3tf_eualtAGW",
        "outputId": "25d982de-b343-4d00-e75e-518f538a382e"
      },
      "execution_count": null,
      "outputs": [
        {
          "output_type": "stream",
          "name": "stdout",
          "text": [
            "10 100 200 300\n",
            "10.5 150.0\n",
            "3.14j 3.14 0.0\n"
          ]
        }
      ]
    },
    {
      "cell_type": "code",
      "source": [
        "#10 String literals\n",
        "strings=\"This is Python\"\n",
        "char=\"C\"\n",
        "multiline_str=\"\"\"This is a multiline string with more than one line code.\"\"\"\n",
        "unicode=u\"\\u00dcnic\\u00f6de\"\n",
        "raw_str=r\"raw\\n string\"\n",
        "print(strings)\n",
        "print(char)\n",
        "print(multiline_str)\n",
        "print(unicode)\n",
        "print(raw_str)"
      ],
      "metadata": {
        "colab": {
          "base_uri": "https://localhost:8080/"
        },
        "id": "xgJDcXwSt0qy",
        "outputId": "c66f08c3-c9c3-4731-b2e6-161aa9443f42"
      },
      "execution_count": null,
      "outputs": [
        {
          "output_type": "stream",
          "name": "stdout",
          "text": [
            "This is Python\n",
            "C\n",
            "This is a multiline string with more than one line code.\n",
            "Ünicöde\n",
            "raw\\n string\n"
          ]
        }
      ]
    },
    {
      "cell_type": "code",
      "source": [
        "#11 Boolean literals\n",
        "x=(1==True)\n",
        "y=(1==False)\n",
        "a=True+4\n",
        "b=False+10\n",
        "print(\"x is\",x)\n",
        "print(\"y is\",y)\n",
        "print(\"a:\",a)\n",
        "print(\"b:\",b)"
      ],
      "metadata": {
        "colab": {
          "base_uri": "https://localhost:8080/"
        },
        "id": "wO0NXlFCuTYm",
        "outputId": "7b939fe6-62a9-4474-f4a5-e4fbea50b8ab"
      },
      "execution_count": null,
      "outputs": [
        {
          "output_type": "stream",
          "name": "stdout",
          "text": [
            "x is True\n",
            "y is False\n",
            "a: 5\n",
            "b: 10\n"
          ]
        }
      ]
    },
    {
      "cell_type": "code",
      "source": [
        "#12 Special literals\n",
        "drink=\"Available\"\n",
        "food=None\n",
        "def menu(x):\n",
        "  if x==drink:\n",
        "    print(drink)\n",
        "  else:\n",
        "    print(food)\n",
        "menu(drink)\n",
        "menu(food)"
      ],
      "metadata": {
        "colab": {
          "base_uri": "https://localhost:8080/"
        },
        "id": "Dtfga2z-uzyb",
        "outputId": "e5e748ac-1ef0-4666-e233-e6bdda5af169"
      },
      "execution_count": null,
      "outputs": [
        {
          "output_type": "stream",
          "name": "stdout",
          "text": [
            "Available\n",
            "None\n"
          ]
        }
      ]
    },
    {
      "cell_type": "code",
      "source": [
        "#13 Literal collections\n",
        "fruits=[\"apple\",\"mango\",\"orange\"]#list\n",
        "numbers=(1,2,3)#tuple\n",
        "alphabets={'a':'apple', 'b':'ball', 'c':'cat'} #dictionary\n",
        "vowels = {'a', 'e', 'i' , 'o', 'u'} #set\n",
        "print(fruits)\n",
        "print(numbers)\n",
        "print(alphabets)\n",
        "print(vowels)\n"
      ],
      "metadata": {
        "colab": {
          "base_uri": "https://localhost:8080/"
        },
        "id": "Kj_5VYSRvZof",
        "outputId": "67094eb2-4d41-4036-adf0-fb142b9f1e91"
      },
      "execution_count": null,
      "outputs": [
        {
          "output_type": "stream",
          "name": "stdout",
          "text": [
            "['apple', 'mango', 'orange']\n",
            "(1, 2, 3)\n",
            "{'a': 'apple', 'b': 'ball', 'c': 'cat'}\n",
            "{'u', 'a', 'o', 'e', 'i'}\n"
          ]
        }
      ]
    },
    {
      "cell_type": "code",
      "source": [
        "#14 find the max of three numbers\n",
        "def max_of_two(x,y):\n",
        "  if x>y:\n",
        "    return x\n",
        "  return y\n",
        "def max_of_three(x,y,z):\n",
        "  return max_of_two(x,max_of_two(y,z))\n",
        "print(max_of_three(3,6,9))"
      ],
      "metadata": {
        "colab": {
          "base_uri": "https://localhost:8080/"
        },
        "id": "N0acY9Y3v4cq",
        "outputId": "8010495f-5e90-4486-921a-53655f164afe"
      },
      "execution_count": null,
      "outputs": [
        {
          "output_type": "stream",
          "name": "stdout",
          "text": [
            "9\n"
          ]
        }
      ]
    },
    {
      "cell_type": "code",
      "source": [
        "#15 find sum of numbers in a list\n",
        "def sum(numbers):\n",
        "  total=0\n",
        "  for x in numbers:\n",
        "    total+=x\n",
        "  return total\n",
        "print(sum((8,2,3,0,7)))"
      ],
      "metadata": {
        "colab": {
          "base_uri": "https://localhost:8080/"
        },
        "id": "NkgEgBcgwhMH",
        "outputId": "d7e7d6f5-9de8-4811-8ef8-1dd0dc64c9f2"
      },
      "execution_count": null,
      "outputs": [
        {
          "output_type": "stream",
          "name": "stdout",
          "text": [
            "20\n"
          ]
        }
      ]
    },
    {
      "cell_type": "code",
      "source": [
        "#16 find product of all numbers in a list\n",
        "def multiply(numbers):\n",
        "  total=1\n",
        "  for x in numbers:\n",
        "    total*=x\n",
        "  return total\n",
        "print(multiply((8,2,3,-1,7)))"
      ],
      "metadata": {
        "colab": {
          "base_uri": "https://localhost:8080/"
        },
        "id": "b_dZt8A3w3Ug",
        "outputId": "b1aa1a0b-6605-4b67-b900-f0a5a569c007"
      },
      "execution_count": null,
      "outputs": [
        {
          "output_type": "stream",
          "name": "stdout",
          "text": [
            "-336\n"
          ]
        }
      ]
    },
    {
      "cell_type": "code",
      "source": [
        "#17 reverse a string\n",
        "def string_reverse(str1):\n",
        "  rstr1=' '\n",
        "  index=len(str1)\n",
        "  while index>0:\n",
        "    rstr1+=str1[index-1]\n",
        "    index=index-1\n",
        "  return rstr1\n",
        "print(string_reverse('1234abcd'))"
      ],
      "metadata": {
        "colab": {
          "base_uri": "https://localhost:8080/"
        },
        "id": "zcTNpA52xTXi",
        "outputId": "8e45ed9a-17f9-4546-dc8b-eb4b79590513"
      },
      "execution_count": null,
      "outputs": [
        {
          "output_type": "stream",
          "name": "stdout",
          "text": [
            " dcba4321\n"
          ]
        }
      ]
    },
    {
      "cell_type": "code",
      "source": [
        "#18 calculate factorial \n",
        "def factorial(n):\n",
        "  if n == 0:\n",
        "    return 1\n",
        "  else:\n",
        "    return n * factorial(n-1)\n",
        "n=int(input(\"Input a number  to compute the factorial: \"))\n",
        "print(factorial(n))"
      ],
      "metadata": {
        "colab": {
          "base_uri": "https://localhost:8080/"
        },
        "id": "UEVoMWSrx3Ok",
        "outputId": "9e9f8fdb-2c19-426f-f221-67068f35b7c9"
      },
      "execution_count": null,
      "outputs": [
        {
          "output_type": "stream",
          "name": "stdout",
          "text": [
            "Input a number  to compute the factorial: 3\n",
            "6\n"
          ]
        }
      ]
    },
    {
      "cell_type": "code",
      "source": [
        "#19 check whether a number falls in a given range\n",
        "def test_range(n):\n",
        "  if n in range(3,9):\n",
        "    print(\"%s is in the range\"%str(n))\n",
        "  else:\n",
        "    print(\"The number is outside the given range.\")\n",
        "test_range(5)"
      ],
      "metadata": {
        "colab": {
          "base_uri": "https://localhost:8080/"
        },
        "id": "ZESqXiD4y0TD",
        "outputId": "14f8cee9-c175-4138-c837-735daa1a295f"
      },
      "execution_count": null,
      "outputs": [
        {
          "output_type": "stream",
          "name": "stdout",
          "text": [
            "5 is in the range\n"
          ]
        }
      ]
    },
    {
      "cell_type": "code",
      "source": [
        "#20 calculate the number of upper/lower case letters in a string\n",
        "def string_test(s):\n",
        "    d={\"UPPER_CASE\":0, \"LOWER_CASE\":0}\n",
        "    for c in s:\n",
        "        if c.isupper():\n",
        "           d[\"UPPER_CASE\"]+=1\n",
        "        elif c.islower():\n",
        "           d[\"LOWER_CASE\"]+=1\n",
        "        else:\n",
        "           pass\n",
        "    print (\"Original String : \", s)\n",
        "    print (\"No. of Upper case characters : \", d[\"UPPER_CASE\"])\n",
        "    print (\"No. of Lower case Characters : \", d[\"LOWER_CASE\"])\n",
        "\n",
        "string_test('The quick Brown Fox')"
      ],
      "metadata": {
        "colab": {
          "base_uri": "https://localhost:8080/"
        },
        "id": "XPjksXdwzPOm",
        "outputId": "af050bec-1ab0-4f39-a8c4-9eb0137e0c21"
      },
      "execution_count": null,
      "outputs": [
        {
          "output_type": "stream",
          "name": "stdout",
          "text": [
            "Original String :  The quick Brown Fox\n",
            "No. of Upper case characters :  3\n",
            "No. of Lower case Characters :  13\n"
          ]
        }
      ]
    },
    {
      "cell_type": "code",
      "source": [
        "#21 unique elements from a list\n",
        "def unique_list(l):\n",
        "  x = []\n",
        "  for a in l:\n",
        "    if a not in x:\n",
        "      x.append(a)\n",
        "  return x\n",
        "print(unique_list([1,2,3,3,3,3,4,5])) "
      ],
      "metadata": {
        "colab": {
          "base_uri": "https://localhost:8080/"
        },
        "id": "hKj9rMTDB3y4",
        "outputId": "ef21d005-41dc-4a56-cfec-96932366f39a"
      },
      "execution_count": null,
      "outputs": [
        {
          "output_type": "stream",
          "name": "stdout",
          "text": [
            "[1, 2, 3, 4, 5]\n"
          ]
        }
      ]
    },
    {
      "cell_type": "code",
      "source": [
        "#22 test the numbber is prime or not\n",
        "def test_prime(n):\n",
        "    if (n==1):\n",
        "        return False\n",
        "    elif (n==2):\n",
        "        return True;\n",
        "    else:\n",
        "        for x in range(2,n):\n",
        "            if(n % x==0):\n",
        "                return False\n",
        "        return True             \n",
        "print(test_prime(9))"
      ],
      "metadata": {
        "colab": {
          "base_uri": "https://localhost:8080/"
        },
        "id": "7ZBz2phuCv8B",
        "outputId": "1f95cebf-cb7f-4ea3-a6bf-1da03aea9e0a"
      },
      "execution_count": null,
      "outputs": [
        {
          "output_type": "stream",
          "name": "stdout",
          "text": [
            "False\n"
          ]
        }
      ]
    },
    {
      "cell_type": "code",
      "source": [
        "#23 print even numbers from a given list\n",
        "def is_even_num(l):\n",
        "    enum = []\n",
        "    for n in l:\n",
        "        if n % 2 == 0:\n",
        "            enum.append(n)\n",
        "    return enum\n",
        "print(is_even_num([1, 2, 3, 4, 5, 6, 7, 8, 9]))"
      ],
      "metadata": {
        "colab": {
          "base_uri": "https://localhost:8080/"
        },
        "id": "U7dYygZuC-u6",
        "outputId": "5418fe3a-380d-44f7-bc61-4263b90a7a7b"
      },
      "execution_count": null,
      "outputs": [
        {
          "output_type": "stream",
          "name": "stdout",
          "text": [
            "[2, 4, 6, 8]\n"
          ]
        }
      ]
    },
    {
      "cell_type": "code",
      "source": [
        "#24 check whether a number is perfect or not\n",
        "def perfect_number(n):\n",
        "    sum = 0\n",
        "    for x in range(1, n):\n",
        "        if n % x == 0:\n",
        "            sum += x\n",
        "    return sum == n\n",
        "print(perfect_number(6))"
      ],
      "metadata": {
        "colab": {
          "base_uri": "https://localhost:8080/"
        },
        "id": "E-1Yp3CLDLZ1",
        "outputId": "090242e6-0982-4edf-c87a-faf2d67ac0cd"
      },
      "execution_count": null,
      "outputs": [
        {
          "output_type": "stream",
          "name": "stdout",
          "text": [
            "True\n"
          ]
        }
      ]
    },
    {
      "cell_type": "code",
      "source": [
        "#25 checks whether a passed string is palindrome or not\n",
        "def isPalindrome(string):\n",
        "\tleft_pos = 0\n",
        "\tright_pos = len(string) - 1\n",
        "\twhile right_pos >= left_pos:\n",
        "\t\tif not string[left_pos] == string[right_pos]:\n",
        "\t\t\treturn False\n",
        "\t\tleft_pos += 1\n",
        "\t\tright_pos -= 1\n",
        "\treturn True\n",
        "print(isPalindrome('aza')) "
      ],
      "metadata": {
        "colab": {
          "base_uri": "https://localhost:8080/"
        },
        "id": "1ouL6EFoDLjl",
        "outputId": "5bf1e920-d7b1-4a44-b161-76a0b3d52586"
      },
      "execution_count": null,
      "outputs": [
        {
          "output_type": "stream",
          "name": "stdout",
          "text": [
            "True\n"
          ]
        }
      ]
    },
    {
      "cell_type": "code",
      "source": [
        "#26 print out the first n rows of pascal's triangle\n",
        "def pascal_triangle(n):\n",
        "   trow = [1]\n",
        "   y = [0]\n",
        "   for x in range(max(n,0)):\n",
        "      print(trow)\n",
        "      trow=[l+r for l,r in zip(trow+y, y+trow)]\n",
        "   return n>=1\n",
        "pascal_triangle(6) "
      ],
      "metadata": {
        "colab": {
          "base_uri": "https://localhost:8080/"
        },
        "id": "qBzxkvwADny_",
        "outputId": "ec37a513-1e20-4f2e-fba2-3801cb7cc810"
      },
      "execution_count": null,
      "outputs": [
        {
          "output_type": "stream",
          "name": "stdout",
          "text": [
            "[1]\n",
            "[1, 1]\n",
            "[1, 2, 1]\n",
            "[1, 3, 3, 1]\n",
            "[1, 4, 6, 4, 1]\n",
            "[1, 5, 10, 10, 5, 1]\n"
          ]
        },
        {
          "output_type": "execute_result",
          "data": {
            "text/plain": [
              "True"
            ]
          },
          "metadata": {},
          "execution_count": 47
        }
      ]
    },
    {
      "cell_type": "code",
      "source": [
        "#27 check whether a string is pangram or not\n",
        "import string, sys\n",
        "def ispangram(str1, alphabet=string.ascii_lowercase):\n",
        "    alphaset = set(alphabet)\n",
        "    return alphaset <= set(str1.lower()) \n",
        "print ( ispangram('The quick brown fox jumps over the lazy dog')) "
      ],
      "metadata": {
        "colab": {
          "base_uri": "https://localhost:8080/"
        },
        "id": "MdRhNwbnD2Mm",
        "outputId": "138ed7cc-9b96-4033-aa3f-35df4fd61f57"
      },
      "execution_count": null,
      "outputs": [
        {
          "output_type": "stream",
          "name": "stdout",
          "text": [
            "True\n"
          ]
        }
      ]
    },
    {
      "cell_type": "code",
      "source": [
        "#28 accept a hypen-separated sequence of words as input and prints the sorted word\n",
        "items=[n for n in input().split('-')]\n",
        "items.sort()\n",
        "print('-'.join(items))"
      ],
      "metadata": {
        "colab": {
          "base_uri": "https://localhost:8080/"
        },
        "id": "rKKgJdtzD2Pz",
        "outputId": "2af5f947-4eb8-4867-a75f-e9e164ccc8ef"
      },
      "execution_count": null,
      "outputs": [
        {
          "output_type": "stream",
          "name": "stdout",
          "text": [
            "red-black-green-orange\n",
            "black-green-orange-red\n"
          ]
        }
      ]
    },
    {
      "cell_type": "code",
      "source": [
        "#29 generate and print a list where thevalues are square of numbers bw two nums\n",
        "def printValues():\n",
        "\tl = list()\n",
        "\tfor i in range(1,21):\n",
        "\t\tl.append(i**2)\n",
        "\tprint(l)\n",
        "\t\t\n",
        "printValues()"
      ],
      "metadata": {
        "colab": {
          "base_uri": "https://localhost:8080/"
        },
        "id": "JJJuYSA7EUGP",
        "outputId": "738e4ee1-7b63-4d76-f614-ab2a665b6235"
      },
      "execution_count": null,
      "outputs": [
        {
          "output_type": "stream",
          "name": "stdout",
          "text": [
            "[1, 4, 9, 16, 25, 36, 49, 64, 81, 100, 121, 144, 169, 196, 225, 256, 289, 324, 361, 400]\n"
          ]
        }
      ]
    },
    {
      "cell_type": "code",
      "source": [
        "#30 function decorators\n",
        "def make_bold(fn):\n",
        "    def wrapped():\n",
        "        return \"<b>\" + fn() + \"</b>\"\n",
        "    return wrapped\n",
        "def make_italic(fn):\n",
        "    def wrapped():\n",
        "        return \"<i>\" + fn() + \"</i>\"\n",
        "    return wrapped\n",
        "def make_underline(fn):\n",
        "    def wrapped():\n",
        "        return \"<u>\" + fn() + \"</u>\"\n",
        "    return wrapped\n",
        "@make_bold\n",
        "@make_italic\n",
        "@make_underline\n",
        "def hello():\n",
        "    return \"hello world\"\n",
        "print(hello()) ## returns \"<b><i><u>hello world</u></i></b>\"\n"
      ],
      "metadata": {
        "colab": {
          "base_uri": "https://localhost:8080/"
        },
        "id": "1249J0pREnsm",
        "outputId": "950c51cf-8c2a-4714-f997-372c80f431fa"
      },
      "execution_count": null,
      "outputs": [
        {
          "output_type": "stream",
          "name": "stdout",
          "text": [
            "<b><i><u>hello world</u></i></b>\n"
          ]
        }
      ]
    },
    {
      "cell_type": "code",
      "source": [
        "#31 execute a string containing python code\n",
        "mycode = 'print(\"hello world\")'\n",
        "code = \"\"\"\n",
        "def mutiply(x,y):\n",
        "    return x*y\n",
        "print('Multiply of 2 and 3 is: ',mutiply(2,3))\n",
        "\"\"\"\n",
        "exec(mycode)\n",
        "exec(code)\n"
      ],
      "metadata": {
        "colab": {
          "base_uri": "https://localhost:8080/"
        },
        "id": "tSwjA1xYE7rM",
        "outputId": "fbdf66f8-3d2b-43c7-8b06-043e86eb38bc"
      },
      "execution_count": null,
      "outputs": [
        {
          "output_type": "stream",
          "name": "stdout",
          "text": [
            "hello world\n",
            "Multiply of 2 and 3 is:  6\n"
          ]
        }
      ]
    },
    {
      "cell_type": "code",
      "source": [
        "#32 access a function inside a function\n",
        "def test(a):\n",
        "        def add(b):\n",
        "                nonlocal a\n",
        "                a += 1\n",
        "                return a+b\n",
        "        return add\n",
        "func= test(4)\n",
        "print(func(4))"
      ],
      "metadata": {
        "colab": {
          "base_uri": "https://localhost:8080/"
        },
        "id": "4R2PXtLFFEJR",
        "outputId": "3cbc0e07-ed59-46bd-b1be-a902606e8b9f"
      },
      "execution_count": null,
      "outputs": [
        {
          "output_type": "stream",
          "name": "stdout",
          "text": [
            "9\n"
          ]
        }
      ]
    },
    {
      "cell_type": "code",
      "source": [
        "#33 detect the number of local var declared in a function\n",
        "def abc():\n",
        "    x = 1\n",
        "    y = 2\n",
        "    str1= \"w3resource\"\n",
        "    print(\"Python Exercises\")\n",
        "print(abc.__code__.co_nlocals)"
      ],
      "metadata": {
        "colab": {
          "base_uri": "https://localhost:8080/"
        },
        "id": "jGsnWX6-FP0-",
        "outputId": "b8763667-cd6f-4e14-8b13-efcea7bfc67a"
      },
      "execution_count": null,
      "outputs": [
        {
          "output_type": "stream",
          "name": "stdout",
          "text": [
            "3\n"
          ]
        }
      ]
    },
    {
      "cell_type": "code",
      "source": [
        "#34 invoke a given function after specific milliseconds\n",
        "from time import sleep\n",
        "import math\n",
        "def delay(fn, ms, *args):\n",
        "  sleep(ms / 1000)\n",
        "  return fn(*args)\n",
        "print(\"Square root after specific miliseconds:\") \n",
        "print(delay(lambda x: math.sqrt(x), 100, 16))\n",
        "print(delay(lambda x: math.sqrt(x), 1000, 100))\n",
        "print(delay(lambda x: math.sqrt(x), 2000, 25100))"
      ],
      "metadata": {
        "colab": {
          "base_uri": "https://localhost:8080/"
        },
        "id": "za6DAnL6FeAC",
        "outputId": "b743c3c0-9e2c-42dc-8c27-05fe6d0ec0aa"
      },
      "execution_count": null,
      "outputs": [
        {
          "output_type": "stream",
          "name": "stdout",
          "text": [
            "Square root after specific miliseconds:\n",
            "4.0\n",
            "10.0\n",
            "158.42979517754858\n"
          ]
        }
      ]
    }
  ]
}